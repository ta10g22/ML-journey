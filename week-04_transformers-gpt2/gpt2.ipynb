{
 "cells": [
  {
   "cell_type": "markdown",
   "id": "6a8495dc",
   "metadata": {},
   "source": [
    "**Importing libraries and configurations**"
   ]
  },
  {
   "cell_type": "code",
   "execution_count": null,
   "id": "6b06b6a2",
   "metadata": {},
   "outputs": [],
   "source": [
    "import os, math, random, numpy as  np, torch\n",
    "from datasets import load_dataset, DatasetDict\n",
    "from transformers import (AutoTokenizer, AutoModelForCausalLM, DataCollatorForLanguageModeling, Trainer, TrainingArguments, pipeline)\n",
    "\n",
    "\n",
    "\n",
    "SEED = 42\n",
    "random.seed(SEED); np.random.seed(SEED); torch.manual_seed(SEED)\n",
    "if torch.cuda.is_available(): torch.cuda.manual_seed_all(SEED)\n",
    "\n",
    "model_id   = \"gpt2\"          # or \"distilgpt2\" for faster runs\n",
    "out_dir    = \"runs/jokes_gpt2\"  #output directory of runs\n",
    "block_size = 256             # reduce if you hit OOM (e.g., 128/192)\n",
    "train_bs   = 16              # reduce if OOM (8)\n",
    "eval_bs    = 16\n",
    "epochs     = 3\n",
    "lr         = 5e-5\n",
    "use_fp16   = torch.cuda.is_available()  # safe on your 4070\n",
    "\n",
    "os.makedirs(out_dir, exist_ok=True)\n",
    "device = \"cuda\" if torch.cuda.is_available() else (\"mps\" if torch.backends.mps.is_available() else \"cpu\")\n",
    "device"
   ]
  },
  {
   "cell_type": "markdown",
   "id": "a38504c1",
   "metadata": {},
   "source": [
    "**Load dataset of Reddit jokes & create a single text fields**"
   ]
  },
  {
   "cell_type": "code",
   "execution_count": null,
   "id": "2ef5a557",
   "metadata": {},
   "outputs": [],
   "source": [
    "ds = load_dataset(\"reddit_jokes\")\n",
    "\n",
    "def merge(rec):\n",
    "    title = rec.get(\"title\") or \"\"\n",
    "    body  = rec.get(\"body\") or \"\"\n",
    "    txt = (title + \"\\n\" + body).strip()\n",
    "    return {\"text\": txt}\n",
    "\n",
    "ds = ds.map(merge, remove_columns=ds[\"train\"].column_names)\n",
    "ds = ds.filter(lambda x: len(x[\"text\"]) > 20)\n",
    "\n",
    "# 90/10 train/val\n",
    "split = ds[\"train\"].train_test_split(test_size=0.1, seed=SEED)\n",
    "ds = DatasetDict({\"train\": split[\"train\"], \"validation\": split[\"test\"]})\n",
    "ds\n"
   ]
  },
  {
   "cell_type": "markdown",
   "id": "f45256de",
   "metadata": {},
   "source": [
    "**Tokenizer BPE & Tokenization**"
   ]
  },
  {
   "cell_type": "code",
   "execution_count": null,
   "id": "3e77ddf8",
   "metadata": {},
   "outputs": [],
   "source": [
    "tok = AutoTokenizer.from_pretrained(model_id, use_fast=True)\n",
    "if tok.pad_token is None:\n",
    "    tok.pad_token = tok.eos_token  # GPT-2 has no pad token by default\n",
    "\n",
    "def tokenize(batch):\n",
    "    return tok(batch[\"text\"], truncation=True, max_length=block_size)\n",
    "\n",
    "tokenized = ds.map(tokenize, batched=True, remove_columns=ds[\"train\"].column_names)\n",
    "tokenized"
   ]
  },
  {
   "cell_type": "markdown",
   "id": "f46e8a85",
   "metadata": {},
   "source": [
    "**Load model + collator**"
   ]
  },
  {
   "cell_type": "code",
   "execution_count": null,
   "id": "0605a4e6",
   "metadata": {},
   "outputs": [],
   "source": [
    "model = AutoModelForCausalLM.from_pretrained(model_id)\n",
    "model.resize_token_embeddings(len(tok))  # in case PAD was added\n",
    "\n",
    "collator = DataCollatorForLanguageModeling(tokenizer=tok, mlm=False)\n"
   ]
  },
  {
   "cell_type": "markdown",
   "id": "0a1ac969",
   "metadata": {},
   "source": [
    "**Training setup + fine-tuning**"
   ]
  },
  {
   "cell_type": "code",
   "execution_count": null,
   "id": "b51dbfd9",
   "metadata": {},
   "outputs": [],
   "source": [
    "args = TrainingArguments(\n",
    "    output_dir=out_dir,\n",
    "    per_device_train_batch_size=train_bs,\n",
    "    per_device_eval_batch_size=eval_bs,\n",
    "    gradient_accumulation_steps=1,\n",
    "    num_train_epochs=epochs,\n",
    "    learning_rate=lr,\n",
    "    warmup_ratio=0.03,\n",
    "    lr_scheduler_type=\"cosine\",\n",
    "    evaluation_strategy=\"steps\",\n",
    "    eval_steps=500,\n",
    "    save_steps=500,\n",
    "    save_total_limit=2,\n",
    "    logging_steps=100,\n",
    "    fp16=use_fp16,\n",
    "    report_to=\"none\",\n",
    "    load_best_model_at_end=True,\n",
    "    metric_for_best_model=\"eval_loss\",\n",
    "    greater_is_better=False,\n",
    "    seed=SEED\n",
    ")\n",
    "\n",
    "trainer = Trainer(\n",
    "    model=model,\n",
    "    args=args,\n",
    "    train_dataset=tokenized[\"train\"],\n",
    "    eval_dataset=tokenized[\"validation\"],\n",
    "    data_collator=collator,\n",
    "    tokenizer=tok,\n",
    ")\n",
    "\n",
    "trainer.train()\n"
   ]
  },
  {
   "cell_type": "markdown",
   "id": "a3893d05",
   "metadata": {},
   "source": [
    "**Evaluate → Perplexity**"
   ]
  },
  {
   "cell_type": "code",
   "execution_count": null,
   "id": "4556408b",
   "metadata": {},
   "outputs": [],
   "source": [
    "eval_res = trainer.evaluate()\n",
    "ppl = math.exp(eval_res[\"eval_loss\"])\n",
    "print(eval_res)\n",
    "print(f\"Perplexity: {ppl:.2f}\")"
   ]
  },
  {
   "cell_type": "markdown",
   "id": "d2bd3997",
   "metadata": {},
   "source": [
    "**Save checkpoint**"
   ]
  },
  {
   "cell_type": "code",
   "execution_count": null,
   "id": "e9e70ba6",
   "metadata": {},
   "outputs": [],
   "source": [
    "trainer.save_model(out_dir)       # saves config + tokenizer + model weights\n",
    "tok.save_pretrained(out_dir)\n",
    "\n",
    "torch.save(model.state_dict(), os.path.join(out_dir, \"pytorch_model_weights_only.pt\"))\n",
    "print(\"Saved to:\", out_dir)"
   ]
  },
  {
   "cell_type": "markdown",
   "id": "7c9efbc6",
   "metadata": {},
   "source": [
    "**Generation helper (sampling: temperature / top-k / top-p)**"
   ]
  },
  {
   "cell_type": "code",
   "execution_count": null,
   "id": "20258921",
   "metadata": {},
   "outputs": [],
   "source": [
    "gen = pipeline(\"text-generation\", model=out_dir, tokenizer=tok, device=0 if device==\"cuda\" else -1)\n",
    "\n",
    "def generate(prompt, max_new=80, temperature=0.9, top_k=50, top_p=0.9, n=3):\n",
    "    outs = gen(\n",
    "        prompt,\n",
    "        do_sample=True,\n",
    "        temperature=temperature,\n",
    "        top_k=top_k,\n",
    "        top_p=top_p,\n",
    "        max_new_tokens=max_new,\n",
    "        num_return_sequences=n,\n",
    "        pad_token_id=tok.eos_token_id,\n",
    "    )\n",
    "    for i, o in enumerate(outs, 1):\n",
    "        print(f\"\\n=== Sample {i} ===\\n{o['generated_text']}\\n\")\n",
    "\n",
    "# Try a few prompts\n",
    "generate(\"Why did the chicken cross the road?\")\n",
    "generate(\"My lecturer said:\", n=2)\n",
    "generate(\"An engineering student walks into a lab and\", n=2)\n"
   ]
  },
  {
   "cell_type": "markdown",
   "id": "ab3941ec",
   "metadata": {},
   "source": [
    "**Samples**"
   ]
  },
  {
   "cell_type": "code",
   "execution_count": null,
   "id": "789289dc",
   "metadata": {},
   "outputs": [],
   "source": [
    "samples_path = os.path.join(out_dir, \"samples.txt\")\n",
    "\n",
    "with open(samples_path, \"w\", encoding=\"utf-8\") as f:\n",
    "    prompts = [\n",
    "        \"Why did the chicken cross the road?\",\n",
    "        \"Write a one-line dad joke about GPUs:\",\n",
    "        \"A software engineer and a hardware engineer walk into a bar and\"\n",
    "    ]\n",
    "    for p in prompts:\n",
    "        outs = gen(p, do_sample=True, top_k=50, top_p=0.9, temperature=0.9, max_new_tokens=80, num_return_sequences=3,\n",
    "                   pad_token_id=tok.eos_token_id)\n",
    "        f.write(f\"\\n\\n# Prompt: {p}\\n\")\n",
    "        for i, o in enumerate(outs, 1):\n",
    "            f.write(f\"\\n[{i}] {o['generated_text']}\\n\")\n",
    "samples_path\n"
   ]
  }
 ],
 "metadata": {
  "kernelspec": {
   "display_name": ".venv (3.9.6)",
   "language": "python",
   "name": "python3"
  },
  "language_info": {
   "codemirror_mode": {
    "name": "ipython",
    "version": 3
   },
   "file_extension": ".py",
   "mimetype": "text/x-python",
   "name": "python",
   "nbconvert_exporter": "python",
   "pygments_lexer": "ipython3",
   "version": "3.9.6"
  }
 },
 "nbformat": 4,
 "nbformat_minor": 5
}
