{
 "cells": [
  {
   "cell_type": "markdown",
   "id": "f885423e",
   "metadata": {},
   "source": [
    "**Importing libraries**"
   ]
  },
  {
   "cell_type": "code",
   "execution_count": 2,
   "id": "afacc411",
   "metadata": {},
   "outputs": [],
   "source": [
    "import torch\n",
    "import torch.nn as nn \n",
    "import torch.nn.functional as F\n",
    "from torchvision import datasets, transforms\n",
    "\n",
    "\n",
    "CIFAR10_MEAN = (0.4914, 0.4822, 0.4465)\n",
    "CIFAR10_STD  = (0.2470, 0.2435, 0.2616)\n",
    "\n",
    "train_tfms = transforms.Compose([\n",
    "    transforms.RandomCrop(32, padding=4),\n",
    "    transforms.RandomHorizontalFlip(),\n",
    "    transforms.ToTensor(),\n",
    "    transforms.Normalize(CIFAR10_MEAN, CIFAR10_STD),\n",
    "])\n",
    "\n",
    "test_tfms = transforms.Compose([\n",
    "    transforms.ToTensor(),\n",
    "    transforms.Normalize(CIFAR10_MEAN, CIFAR10_STD),\n",
    "])\n",
    "\n",
    "\n",
    "train_data = datasets.CIFAR10(root= 'data' ,train = True ,download= True , transform = train_tfms)\n",
    "test_data  = datasets.CIFAR10(root= 'data' ,train = False ,download= True , transform = test_tfms)\n",
    "\n"
   ]
  },
  {
   "cell_type": "code",
   "execution_count": 3,
   "id": "8d5a3911",
   "metadata": {},
   "outputs": [
    {
     "name": "stderr",
     "output_type": "stream",
     "text": [
      "/Users/admin/Documents/GitHub/ML-journey/week-03_cnns-cifar10/.venv/lib/python3.9/site-packages/torch/utils/data/dataloader.py:684: UserWarning: 'pin_memory' argument is set as true but not supported on MPS now, then device pinned memory won't be used.\n",
      "  warnings.warn(warn_msg)\n"
     ]
    },
    {
     "name": "stdout",
     "output_type": "stream",
     "text": [
      "Train batch: torch.Size([128, 3, 32, 32]) torch.Size([128])\n",
      "dtype/device: torch.float32 cpu\n",
      "label range: 0 to 9\n",
      "pixel stats (after norm): -0.3183462917804718 1.112312912940979\n",
      "Classes: ['airplane', 'automobile', 'bird', 'cat', 'deer', 'dog', 'frog', 'horse', 'ship', 'truck']\n"
     ]
    }
   ],
   "source": [
    "#Dataloaders\n",
    "from torch.utils.data import DataLoader\n",
    "\n",
    "BATCH_SIZE = 128\n",
    "\n",
    "device = torch.device('cuda' if torch.cuda.is_available() else 'cpu')\n",
    "\n",
    "train_loader = DataLoader(train_data, batch_size=BATCH_SIZE, shuffle=True,\n",
    "                          num_workers=2, pin_memory=True)\n",
    "test_loader  = DataLoader(test_data,  batch_size=BATCH_SIZE, shuffle=False,\n",
    "                          num_workers=2, pin_memory=True)\n",
    "\n",
    "\n",
    "imgs, labels = next(iter(train_loader))\n",
    "print('Train batch:', imgs.shape, labels.shape)  # expect [B, 3, 32, 32], [B]\n",
    "print('dtype/device:', imgs.dtype, imgs.device)\n",
    "print('label range:', labels.min().item(), 'to', labels.max().item())  # expect 0..9\n",
    "print('pixel stats (after norm):', imgs.mean().item(), imgs.std().item())\n",
    "\n",
    "classes = train_data.classes\n",
    "print('Classes:', classes)"
   ]
  },
  {
   "cell_type": "code",
   "execution_count": 4,
   "id": "d3a6f8c5",
   "metadata": {},
   "outputs": [
    {
     "name": "stderr",
     "output_type": "stream",
     "text": [
      "/Users/admin/Documents/GitHub/ML-journey/week-03_cnns-cifar10/.venv/lib/python3.9/site-packages/torch/utils/data/dataloader.py:684: UserWarning: 'pin_memory' argument is set as true but not supported on MPS now, then device pinned memory won't be used.\n",
      "  warnings.warn(warn_msg)\n"
     ]
    },
    {
     "data": {
      "image/png": "[encoded data removed]",
      "text/plain": [
       "<Figure size 800x800 with 4 Axes>"
      ]
     },
     "metadata": {},
     "output_type": "display_data"
    }
   ],
   "source": [
    "#Visualizing some of our CIFAR-10 DATA we're working with\n",
    "\n",
    "import matplotlib.pyplot as plt\n",
    "import numpy as np\n",
    "\n",
    "# Helper to unnormalize and show an image\n",
    "def imshow(img):\n",
    "    img = img.numpy().transpose((1, 2, 0))  # C,H,W → H,W,C\n",
    "    img = CIFAR10_STD * img + CIFAR10_MEAN  # unnormalize\n",
    "    img = np.clip(img, 0, 1)\n",
    "    plt.imshow(img)\n",
    "    plt.axis('off')\n",
    "\n",
    "# Get a batch of training images\n",
    "dataiter = iter(train_loader)\n",
    "images, labels = next(dataiter)\n",
    "\n",
    "# Show the first 4 images\n",
    "plt.figure(figsize=(8, 8))\n",
    "for i in range(4):\n",
    "    plt.subplot(2, 2, i+1)\n",
    "    imshow(images[i])\n",
    "    plt.title(classes[labels[i]])\n",
    "plt.show()"
   ]
  },
  {
   "cell_type": "code",
   "execution_count": null,
   "id": "4ac4fad9",
   "metadata": {},
   "outputs": [],
   "source": [
    "# Defining basic reset block with skip connection\n",
    "\n",
    "import torch.nn as nn \n",
    "import torch.nn.functional as F\n",
    "\n",
    "\n",
    "def conv3x3(in_ch, out_ch, stride =1):\n",
    "    return nn.Conv2d(in_ch, out_ch, kernel_size=3, stride=stride, padding=1, bias=False)\n",
    "\n",
    "class BasicBlock(nn.Module):\n",
    "    expansion =  1   #This is used by larger ResNets; Here it stays 1\n",
    "    def __init__(self, in_ch, out_ch, stride = 1):\n",
    "        super().__init__()        \n",
    "        #main path\n",
    "        self.conv1 = conv3x3(in_ch, out_ch, stride)\n",
    "        self.bn1   = nn.BatchNorm2d(out_ch)\n",
    "        self.conv2 = conv3x3(out_ch, out_ch, 1)\n",
    "        self.bn2   = nn.BatchNorm2d(out_ch)\n",
    "\n",
    "        #Skip path (identity or 1x1 projection)\n",
    "        self.downsample = None\n",
    "        if stride != 1 or in_ch != out_ch:\n",
    "            self.downsample = nn.Sequential(\n",
    "                nn.Conv2d(in_ch, out_ch, kernel_size=1, stride=stride, bias = False),\n",
    "                nn.BatchNorm2d(out_ch)\n",
    "            )\n",
    "\n",
    "    def forward(self, x):\n",
    "        identity = x\n",
    "\n",
    "        out = self.conv1(x)\n",
    "        out = self.bn1(out)\n",
    "        out = F.relu(out, inplace = True)\n",
    "\n",
    "        out = self.conv2(out)\n",
    "        out = self.bn2(out)\n",
    "\n",
    "        if self.downsample is not None:\n",
    "            identity = self.downsample(x)\n",
    "\n",
    "        out += identity\n",
    "        out = F.relu(out, inplace = True)\n",
    "        return out\n"
   ]
  },
  {
   "cell_type": "code",
   "execution_count": null,
   "id": "dd19e339",
   "metadata": {},
   "outputs": [],
   "source": [
    "#stack blocks into a TinyResNet \n",
    "\n",
    "class TinyResNet(nn.Module):\n",
    "    def __init__(self, num_classes = 10):\n",
    "        super().__init__()\n",
    "\n",
    "        self.stem = nn.Sequential(\n",
    "            nn.Conv2d(3, 32, kernel_size=3, stride = 1, padding=1, bias=False),\n",
    "            nn.BatchNorm2d(32),\n",
    "            nn.ReLU(inplace=True)\n",
    "        )\n",
    "\n",
    "\n",
    "        # Stages: [2,2,2] basic blocks with channels [32,64,128]\n",
    "        self.layer1 = self._make_layer(32,  32, blocks=2, stride=1)  # 32x32 -> 32x32\n",
    "        self.layer2 = self._make_layer(32,  64, blocks=2, stride=2)  # 32x32 -> 16x16\n",
    "        self.layer3 = self._make_layer(64, 128, blocks=2, stride=2)  # 16x16 -> 8x8\n",
    "\n",
    "        self.pool = nn.AdaptiveAvgPool2d(1)      # -> (N, C, 1, 1)\n",
    "        self.fc   = nn.Linear(128, num_classes)   # -> (N, 10)\n",
    "\n",
    "         # (Optional) Kaiming init for convs\n",
    "        for m in self.modules():\n",
    "            if isinstance(m, nn.Conv2d):\n",
    "                nn.init.kaiming_normal_(m.weight, mode='fan_out', nonlinearity='relu')\n",
    "\n",
    "    def _make_layer(self, in_ch, out_ch, blocks, stride):\n",
    "        layers = [BasicBlock(in_ch, out_ch, stride=stride)]\n",
    "        for _ in range(1, blocks):\n",
    "            layers.append(BasicBlock(out_ch, out_ch, stride=1))\n",
    "        return nn.Sequential(*layers)\n",
    "\n",
    "    def forward(self, x):\n",
    "        x = self.stem(x)      # (N,32,32,32)\n",
    "        x = self.layer1(x)    # (N,32,32,32)\n",
    "        x = self.layer2(x)    # (N,64,16,16)\n",
    "        x = self.layer3(x)    # (N,128,8,8)\n",
    "        x = self.pool(x)      # (N,128,1,1)\n",
    "        x = torch.flatten(x, 1)  # (N,128)\n",
    "        x = self.fc(x)        # (N,10)\n",
    "        return x\n"
   ]
  },
  {
   "cell_type": "code",
   "execution_count": 7,
   "id": "ab5368ef",
   "metadata": {},
   "outputs": [
    {
     "ename": "NameError",
     "evalue": "name 'TinyResNet' is not defined",
     "output_type": "error",
     "traceback": [
      "\u001b[0;31m---------------------------------------------------------------------------\u001b[0m",
      "\u001b[0;31mNameError\u001b[0m                                 Traceback (most recent call last)",
      "Cell \u001b[0;32mIn[7], line 4\u001b[0m\n\u001b[1;32m      1\u001b[0m \u001b[38;5;66;03m#Quick test  \u001b[39;00m\n\u001b[1;32m      2\u001b[0m \u001b[38;5;28;01mfrom\u001b[39;00m\u001b[38;5;250m \u001b[39m\u001b[38;5;21;01mtorchinfo\u001b[39;00m\u001b[38;5;250m \u001b[39m\u001b[38;5;28;01mimport\u001b[39;00m summary\n\u001b[0;32m----> 4\u001b[0m model \u001b[38;5;241m=\u001b[39m \u001b[43mTinyResNet\u001b[49m(num_classes\u001b[38;5;241m=\u001b[39m\u001b[38;5;241m10\u001b[39m)\u001b[38;5;241m.\u001b[39mto(device)\n\u001b[1;32m      6\u001b[0m \u001b[38;5;66;03m# Dummy forward\u001b[39;00m\n\u001b[1;32m      7\u001b[0m x \u001b[38;5;241m=\u001b[39m torch\u001b[38;5;241m.\u001b[39mrandn(\u001b[38;5;241m4\u001b[39m, \u001b[38;5;241m3\u001b[39m, \u001b[38;5;241m32\u001b[39m, \u001b[38;5;241m32\u001b[39m)\u001b[38;5;241m.\u001b[39mto(device)\n",
      "\u001b[0;31mNameError\u001b[0m: name 'TinyResNet' is not defined"
     ]
    }
   ],
   "source": [
    "#Quick test  \n",
    "from torchinfo import summary\n",
    "\n",
    "model = TinyResNet(num_classes=10).to(device)\n",
    "\n",
    "# Dummy forward\n",
    "x = torch.randn(4, 3, 32, 32).to(device)\n",
    "y = model(x)\n",
    "print(\"Output shape:\", y.shape)  # should be [4, 10]\n",
    "\n",
    "# Parameter count\n",
    "total_params = sum(p.numel() for p in model.parameters())\n",
    "trainable    = sum(p.numel() for p in model.parameters() if p.requires_grad)\n",
    "print(f\"Params: {total_params:,} (trainable: {trainable:,})\")\n",
    "\n",
    "summary (model, input_size=(1,2,32,32))\n",
    "\n",
    "\n",
    "#save model\n",
    "torch.save(model.state_dict(), \"tinyresnet_init.pt\") \n",
    "   "
   ]
  }
 ],
 "metadata": {
  "kernelspec": {
   "display_name": ".venv (3.9.6)",
   "language": "python",
   "name": "python3"
  },
  "language_info": {
   "codemirror_mode": {
    "name": "ipython",
    "version": 3
   },
   "file_extension": ".py",
   "mimetype": "text/x-python",
   "name": "python",
   "nbconvert_exporter": "python",
   "pygments_lexer": "ipython3",
   "version": "3.9.6"
  }
 },
 "nbformat": 4,
 "nbformat_minor": 5
}
