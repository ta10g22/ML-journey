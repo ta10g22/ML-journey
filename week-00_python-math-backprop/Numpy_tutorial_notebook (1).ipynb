{
  "cells": [
    {
      "cell_type": "code",
      "execution_count": null,
      "metadata": {
        "id": "j4K-ZCcvTMW2"
      },
      "outputs": [],
      "source": []
    },
    {
      "cell_type": "markdown",
      "metadata": {
        "id": "DGdk8poHVcdi"
      },
      "source": [
        "# NUMPY VS LISTS\n",
        "\n",
        "**Lists are slow!\n",
        "Numpy are Fast!**"
      ]
    },
    {
      "cell_type": "markdown",
      "metadata": {
        "id": "97WWghCDVyx3"
      },
      "source": [
        "Numpy converts integers to computer binary which is faster for the machine to read.\n",
        "\n",
        "\n",
        "Lists use other build-in int type which contains multiple things : Size, reference cournt ,object count, object type\n"
      ]
    },
    {
      "cell_type": "markdown",
      "metadata": {
        "id": "2_Bc-svGWZqo"
      },
      "source": [
        "In python you can have multiple data type in a list and therefore require type checking when the machine is reading it.\n",
        "\n",
        "\n",
        "Numpy doesn't require type checking when iterating through lists"
      ]
    },
    {
      "cell_type": "markdown",
      "metadata": {
        "id": "22JWsvUEXBie"
      },
      "source": [
        "Lists are scattered around in memory while\n",
        "\n",
        "\n",
        "Numpy arrays use contiguous memory\n",
        "\n",
        " **Benefits**\n",
        " Effectively using our cache\n",
        " SIMD VECTOR Processing easier"
      ]
    },
    {
      "cell_type": "code",
      "execution_count": null,
      "metadata": {
        "id": "bWGp1X2CXAZO"
      },
      "outputs": [],
      "source": [
        "import numpy as np"
      ]
    },
    {
      "cell_type": "code",
      "execution_count": 4,
      "metadata": {
        "colab": {
          "base_uri": "https://localhost:8080/"
        },
        "id": "Uidz_GmCZpLG",
        "outputId": "5dfb697d-7971-4041-fa3b-7122445337c5"
      },
      "outputs": [
        {
          "name": "stdout",
          "output_type": "stream",
          "text": [
            "[1 2 3]\n"
          ]
        },
        {
          "data": {
            "text/plain": [
              "3"
            ]
          },
          "execution_count": 4,
          "metadata": {},
          "output_type": "execute_result"
        }
      ],
      "source": [
        "import numpy as np\n",
        "a = np.array([1,2,3])\n",
        "print(a)\n",
        "a.size"
      ]
    },
    {
      "cell_type": "code",
      "execution_count": null,
      "metadata": {
        "colab": {
          "base_uri": "https://localhost:8080/"
        },
        "id": "VElPxnvtaJvX",
        "outputId": "59d82d87-e98e-4269-f56d-6dfab199752b"
      },
      "outputs": [
        {
          "name": "stdout",
          "output_type": "stream",
          "text": [
            "[[9. 8. 7.]\n",
            " [6. 5. 4.]]\n"
          ]
        }
      ],
      "source": [
        "b = np.array([[9.0,8.0,7.0],[6.0,5.0,4.0]])\n",
        "print(b)"
      ]
    },
    {
      "cell_type": "code",
      "execution_count": null,
      "metadata": {
        "colab": {
          "base_uri": "https://localhost:8080/"
        },
        "id": "O8-ARs32aqa6",
        "outputId": "7e1cdfa0-bf26-46b3-babf-eb543dd9a862"
      },
      "outputs": [
        {
          "data": {
            "text/plain": [
              "1"
            ]
          },
          "execution_count": 8,
          "metadata": {},
          "output_type": "execute_result"
        }
      ],
      "source": [
        "#get dimestion\n",
        "a.ndim"
      ]
    },
    {
      "cell_type": "code",
      "execution_count": null,
      "metadata": {
        "colab": {
          "base_uri": "https://localhost:8080/"
        },
        "id": "baRN-LR5axp1",
        "outputId": "cd0d817b-43a5-4a88-8a27-d79340be6fac"
      },
      "outputs": [
        {
          "data": {
            "text/plain": [
              "(2, 4)"
            ]
          },
          "execution_count": 37,
          "metadata": {},
          "output_type": "execute_result"
        }
      ],
      "source": [
        "#get shape\n",
        "a.shape"
      ]
    },
    {
      "cell_type": "code",
      "execution_count": null,
      "metadata": {
        "colab": {
          "base_uri": "https://localhost:8080/"
        },
        "id": "clsxwjvRbBzA",
        "outputId": "0c555f09-66a6-41cb-a9ec-6a362b65d607"
      },
      "outputs": [
        {
          "data": {
            "text/plain": [
              "dtype('int64')"
            ]
          },
          "execution_count": 9,
          "metadata": {},
          "output_type": "execute_result"
        }
      ],
      "source": [
        "a.dtype"
      ]
    },
    {
      "cell_type": "code",
      "execution_count": null,
      "metadata": {
        "colab": {
          "base_uri": "https://localhost:8080/"
        },
        "id": "a3pl9WjXbGAH",
        "outputId": "48929078-f808-4bae-90cf-47eeb42829f0"
      },
      "outputs": [
        {
          "data": {
            "text/plain": [
              "8"
            ]
          },
          "execution_count": 10,
          "metadata": {},
          "output_type": "execute_result"
        }
      ],
      "source": [
        "#get size (number of bytes in the integer)(number of memory adresses)\n",
        "a.itemsize"
      ]
    },
    {
      "cell_type": "code",
      "execution_count": null,
      "metadata": {
        "colab": {
          "base_uri": "https://localhost:8080/"
        },
        "id": "VLXcZ1_xbIlV",
        "outputId": "8a835409-0848-4fb5-d736-a98d12234374"
      },
      "outputs": [
        {
          "data": {
            "text/plain": [
              "24"
            ]
          },
          "execution_count": 12,
          "metadata": {},
          "output_type": "execute_result"
        }
      ],
      "source": [
        "#Get total size\n",
        "a.size * a.itemsize\n"
      ]
    },
    {
      "cell_type": "code",
      "execution_count": null,
      "metadata": {
        "colab": {
          "base_uri": "https://localhost:8080/"
        },
        "id": "fw4Ic18ebuoD",
        "outputId": "8b434990-2ec2-4c67-f3bb-448cc9b66e96"
      },
      "outputs": [
        {
          "data": {
            "text/plain": [
              "24"
            ]
          },
          "execution_count": 13,
          "metadata": {},
          "output_type": "execute_result"
        }
      ],
      "source": [
        "a.nbytes"
      ]
    },
    {
      "cell_type": "code",
      "execution_count": null,
      "metadata": {
        "colab": {
          "base_uri": "https://localhost:8080/"
        },
        "id": "m-O6MU78b5M_",
        "outputId": "d44d5ad7-73b7-412c-e56a-bf7f7d116c51"
      },
      "outputs": [
        {
          "data": {
            "text/plain": [
              "6"
            ]
          },
          "execution_count": 14,
          "metadata": {},
          "output_type": "execute_result"
        }
      ],
      "source": [
        "b.size"
      ]
    },
    {
      "cell_type": "markdown",
      "metadata": {
        "id": "eJkhv47ZckU_"
      },
      "source": [
        "**Accessing/Changing specific elements,rows,columns**\n",
        "\n",
        "\n",
        "\n"
      ]
    },
    {
      "cell_type": "code",
      "execution_count": null,
      "metadata": {
        "colab": {
          "base_uri": "https://localhost:8080/"
        },
        "id": "UU97XyyEcvKb",
        "outputId": "510b3af3-087b-464d-82ec-b898f3bf2109"
      },
      "outputs": [
        {
          "name": "stdout",
          "output_type": "stream",
          "text": [
            "[[1 2 4 5]\n",
            " [2 5 6 8]]\n"
          ]
        }
      ],
      "source": [
        "a = np.array([[1,2,4,5],[2,5,6,8,]])\n",
        "print(a)"
      ]
    },
    {
      "cell_type": "code",
      "execution_count": null,
      "metadata": {
        "colab": {
          "base_uri": "https://localhost:8080/"
        },
        "id": "RjwQaoQRc4S8",
        "outputId": "415e06c5-db85-4580-f82a-9d3a1d079e8a"
      },
      "outputs": [
        {
          "data": {
            "text/plain": [
              "array([4, 6])"
            ]
          },
          "execution_count": 20,
          "metadata": {},
          "output_type": "execute_result"
        }
      ],
      "source": [
        "#get a specific column\n",
        "a[:,2]"
      ]
    },
    {
      "cell_type": "code",
      "execution_count": null,
      "metadata": {
        "colab": {
          "base_uri": "https://localhost:8080/"
        },
        "id": "qgVw9fLGd3k6",
        "outputId": "5636cd3b-db6f-415a-bcfc-f69d673c2b1e"
      },
      "outputs": [
        {
          "data": {
            "text/plain": [
              "array([0, 0, 0], dtype=int32)"
            ]
          },
          "execution_count": 66,
          "metadata": {},
          "output_type": "execute_result"
        }
      ],
      "source": [
        "#get a specific row\n",
        "a[0,:]"
      ]
    },
    {
      "cell_type": "code",
      "execution_count": null,
      "metadata": {
        "colab": {
          "base_uri": "https://localhost:8080/"
        },
        "id": "92ExLWGG0IiI",
        "outputId": "a29ce065-7abb-491b-94c9-c0a78fce360f"
      },
      "outputs": [
        {
          "data": {
            "text/plain": [
              "array([0], dtype=int32)"
            ]
          },
          "execution_count": 67,
          "metadata": {},
          "output_type": "execute_result"
        }
      ],
      "source": [
        "# getting a little more fancy\n",
        "a[0, 1:6:2]"
      ]
    },
    {
      "cell_type": "code",
      "execution_count": null,
      "metadata": {
        "id": "fhaI0VT60I7J"
      },
      "outputs": [],
      "source": []
    },
    {
      "cell_type": "markdown",
      "metadata": {
        "id": "7EakrhIlfLsM"
      },
      "source": [
        "**Initiailizing different types of arrays**"
      ]
    },
    {
      "cell_type": "code",
      "execution_count": null,
      "metadata": {
        "colab": {
          "base_uri": "https://localhost:8080/"
        },
        "id": "Js1ve6cIeGAk",
        "outputId": "55c8e7e5-b311-40e2-fb93-f178b914e9e5"
      },
      "outputs": [
        {
          "data": {
            "text/plain": [
              "array([[[0., 0.],\n",
              "        [0., 0.]],\n",
              "\n",
              "       [[0., 0.],\n",
              "        [0., 0.]]])"
            ]
          },
          "execution_count": 26,
          "metadata": {},
          "output_type": "execute_result"
        }
      ],
      "source": [
        "#all zero's matrix\n",
        "\n",
        "np.zeros((2,2,2))"
      ]
    },
    {
      "cell_type": "code",
      "execution_count": null,
      "metadata": {
        "colab": {
          "base_uri": "https://localhost:8080/"
        },
        "id": "blnOGwosvaKl",
        "outputId": "f2577ba3-783a-441e-fc89-a6578adeb64f"
      },
      "outputs": [
        {
          "data": {
            "text/plain": [
              "array([[1, 1, 1],\n",
              "       [1, 1, 1],\n",
              "       [1, 1, 1],\n",
              "       [1, 1, 1]], dtype=int32)"
            ]
          },
          "execution_count": 32,
          "metadata": {},
          "output_type": "execute_result"
        }
      ],
      "source": [
        "#all 1's matrix\n",
        "\n",
        "np.ones((4,3), dtype ='int32')"
      ]
    },
    {
      "cell_type": "code",
      "execution_count": null,
      "metadata": {
        "colab": {
          "base_uri": "https://localhost:8080/"
        },
        "id": "is5xe9FHvqh0",
        "outputId": "9bba56da-dd9f-46ac-aebc-1724f3928a41"
      },
      "outputs": [
        {
          "data": {
            "text/plain": [
              "array([[[88, 88, 88],\n",
              "        [88, 88, 88]],\n",
              "\n",
              "       [[88, 88, 88],\n",
              "        [88, 88, 88]]])"
            ]
          },
          "execution_count": 34,
          "metadata": {},
          "output_type": "execute_result"
        }
      ],
      "source": [
        "#Any other number\n",
        "np.full((2,2,3) , 88)"
      ]
    },
    {
      "cell_type": "code",
      "execution_count": null,
      "metadata": {
        "colab": {
          "base_uri": "https://localhost:8080/"
        },
        "id": "BGgRM2P4wHOR",
        "outputId": "2befad5d-19b3-49db-d3fc-9d8a75187809"
      },
      "outputs": [
        {
          "data": {
            "text/plain": [
              "array([[4, 4, 4, 4],\n",
              "       [4, 4, 4, 4]])"
            ]
          },
          "execution_count": 36,
          "metadata": {},
          "output_type": "execute_result"
        }
      ],
      "source": [
        "#any other number(full like)\n",
        "np.full(a.shape,4)"
      ]
    },
    {
      "cell_type": "code",
      "execution_count": null,
      "metadata": {
        "colab": {
          "base_uri": "https://localhost:8080/"
        },
        "id": "1yCQOIHHweSI",
        "outputId": "e3c545e4-58ee-4466-feec-fbacc7e45e47"
      },
      "outputs": [
        {
          "data": {
            "text/plain": [
              "array([[0.30855815, 0.55559732],\n",
              "       [0.09087432, 0.97127145],\n",
              "       [0.5883242 , 0.64900724],\n",
              "       [0.05078563, 0.71343748]])"
            ]
          },
          "execution_count": 41,
          "metadata": {},
          "output_type": "execute_result"
        }
      ],
      "source": [
        "#random decimal numbers\n",
        "np.random.rand(4,2)"
      ]
    },
    {
      "cell_type": "code",
      "execution_count": null,
      "metadata": {
        "colab": {
          "base_uri": "https://localhost:8080/"
        },
        "id": "-ocVtRXswsjj",
        "outputId": "29a053c9-7985-40c6-a24c-cd7bfba2cf13"
      },
      "outputs": [
        {
          "data": {
            "text/plain": [
              "array([[65,  5, 99],\n",
              "       [41, 31,  7],\n",
              "       [ 2, 70, 75]])"
            ]
          },
          "execution_count": 46,
          "metadata": {},
          "output_type": "execute_result"
        }
      ],
      "source": [
        "#random integer valuse\n",
        "np.random.randint(100, size=(3,3))"
      ]
    },
    {
      "cell_type": "code",
      "execution_count": null,
      "metadata": {
        "colab": {
          "base_uri": "https://localhost:8080/"
        },
        "id": "y0CtO5PXxeCV",
        "outputId": "fbbd1358-7b73-4c9f-db54-4c075f5d1398"
      },
      "outputs": [
        {
          "data": {
            "text/plain": [
              "array([[1., 0., 0.],\n",
              "       [0., 1., 0.],\n",
              "       [0., 0., 1.]])"
            ]
          },
          "execution_count": 48,
          "metadata": {},
          "output_type": "execute_result"
        }
      ],
      "source": [
        "#identity matrix\n",
        "np.identity(3)"
      ]
    },
    {
      "cell_type": "code",
      "execution_count": null,
      "metadata": {
        "colab": {
          "base_uri": "https://localhost:8080/"
        },
        "id": "fCR86CzMxoSl",
        "outputId": "252c1489-206e-4675-b762-29253157a025"
      },
      "outputs": [
        {
          "name": "stdout",
          "output_type": "stream",
          "text": [
            "[[1 1 1 2 2 2 3 3 3]]\n"
          ]
        }
      ],
      "source": [
        "arr = np.array([[1,2,3]])\n",
        "r1 = np.repeat(arr , 3, axis=1)\n",
        "print(r1)"
      ]
    },
    {
      "cell_type": "code",
      "execution_count": null,
      "metadata": {
        "colab": {
          "base_uri": "https://localhost:8080/"
        },
        "id": "X2liPWxVyExE",
        "outputId": "495288cc-d75e-47e7-c355-7831108d5f1d"
      },
      "outputs": [
        {
          "name": "stdout",
          "output_type": "stream",
          "text": [
            "[[1 1 1 1 1]\n",
            " [1 0 0 0 1]\n",
            " [1 0 9 0 1]\n",
            " [1 0 0 0 1]\n",
            " [1 1 1 1 1]]\n"
          ]
        }
      ],
      "source": [
        "from re import A\n",
        "#array initialization question from yt video\n",
        "a = np.ones((5,5), dtype = 'int32')\n",
        "\n",
        "z = np.zeros((3,3) ,dtype = 'int32')\n",
        "z[1,1] = 9\n",
        "a[1:4,1:4] = z\n",
        "print(a)\n"
      ]
    },
    {
      "cell_type": "markdown",
      "metadata": {
        "id": "_9dCt4SF2PPp"
      },
      "source": [
        "#Be careful when copying arrays!!"
      ]
    },
    {
      "cell_type": "code",
      "execution_count": null,
      "metadata": {
        "colab": {
          "base_uri": "https://localhost:8080/"
        },
        "id": "uKHr6fIdyo0k",
        "outputId": "8fa646b7-b785-44ac-a472-060b149a1e09"
      },
      "outputs": [
        {
          "name": "stdout",
          "output_type": "stream",
          "text": [
            "[100   2   3]\n",
            "[100   2   3]\n"
          ]
        }
      ],
      "source": [
        "a = np.array([1,2,3])\n",
        "b = a\n",
        "b[0] = 100\n",
        "print(b)\n",
        "print(a)\n",
        "\n",
        "# b is basically pointing to a and not copying so we need to use \".copy\""
      ]
    },
    {
      "cell_type": "markdown",
      "metadata": {
        "id": "WsOEEc5z2zX2"
      },
      "source": [
        "#Mathematics\n",
        "numpy is used alot for mathematics because of the elementwise operations that can be performed on arrays"
      ]
    },
    {
      "cell_type": "code",
      "execution_count": null,
      "metadata": {
        "id": "jJPFwqao2lAB"
      },
      "outputs": [],
      "source": [
        "a = np.array([1,2,3,4])\n"
      ]
    },
    {
      "cell_type": "code",
      "execution_count": null,
      "metadata": {
        "colab": {
          "base_uri": "https://localhost:8080/"
        },
        "id": "jV5CsNRO3Ows",
        "outputId": "9f233feb-c7c9-4982-b8f1-dcaede17677e"
      },
      "outputs": [
        {
          "data": {
            "text/plain": [
              "array([3, 4, 5, 6])"
            ]
          },
          "execution_count": 85,
          "metadata": {},
          "output_type": "execute_result"
        }
      ],
      "source": [
        "a + 2"
      ]
    },
    {
      "cell_type": "code",
      "execution_count": null,
      "metadata": {
        "colab": {
          "base_uri": "https://localhost:8080/"
        },
        "id": "4WTPPLhS3SDb",
        "outputId": "ed3bbbf9-7b70-495f-e328-628184167360"
      },
      "outputs": [
        {
          "data": {
            "text/plain": [
              "array([0.5, 1. , 1.5, 2. ])"
            ]
          },
          "execution_count": 86,
          "metadata": {},
          "output_type": "execute_result"
        }
      ],
      "source": [
        "a / 2"
      ]
    },
    {
      "cell_type": "code",
      "execution_count": null,
      "metadata": {
        "id": "bJP4YKif3UO4"
      },
      "outputs": [],
      "source": [
        "b = np.array([1,0,1,0])"
      ]
    },
    {
      "cell_type": "code",
      "execution_count": null,
      "metadata": {
        "colab": {
          "base_uri": "https://localhost:8080/"
        },
        "id": "uPh5mXkX3o0y",
        "outputId": "2e3e9094-210c-48a5-a7e0-d7065bd69d3b"
      },
      "outputs": [
        {
          "data": {
            "text/plain": [
              "array([1, 0, 1, 0])"
            ]
          },
          "execution_count": 89,
          "metadata": {},
          "output_type": "execute_result"
        }
      ],
      "source": [
        "b **2"
      ]
    },
    {
      "cell_type": "markdown",
      "metadata": {
        "id": "Pneq8SX0368Q"
      },
      "source": [
        "#Linear Algebra"
      ]
    },
    {
      "cell_type": "code",
      "execution_count": null,
      "metadata": {
        "colab": {
          "base_uri": "https://localhost:8080/"
        },
        "id": "_PjYL9Yb3vRr",
        "outputId": "85d2230f-fd49-4dbe-d7c5-ba1c360c9a1a"
      },
      "outputs": [
        {
          "name": "stdout",
          "output_type": "stream",
          "text": [
            "[[9 9 9]\n",
            " [9 9 9]]\n",
            "[[1 1]\n",
            " [1 1]\n",
            " [1 1]]\n"
          ]
        }
      ],
      "source": [
        " a = np.full((2,3) ,9)\n",
        " print(a)\n",
        " b = np.ones((3,2), dtype ='int32')\n",
        " print(b)\n"
      ]
    },
    {
      "cell_type": "code",
      "execution_count": null,
      "metadata": {
        "colab": {
          "base_uri": "https://localhost:8080/"
        },
        "id": "iiViK4_54JaV",
        "outputId": "a213775f-766e-4b17-825a-a9864e3e5d22"
      },
      "outputs": [
        {
          "data": {
            "text/plain": [
              "array([[18, 18, 18],\n",
              "       [18, 18, 18],\n",
              "       [18, 18, 18]])"
            ]
          },
          "execution_count": 103,
          "metadata": {},
          "output_type": "execute_result"
        }
      ],
      "source": [
        "# columns of the first matrix must be equal to the row'a of the second one\n",
        "np.matmul(b,a)"
      ]
    },
    {
      "cell_type": "code",
      "execution_count": null,
      "metadata": {
        "id": "T8PIA26A5Qwl"
      },
      "outputs": [],
      "source": [
        "#determinant\n",
        "#trace\n",
        "#invers\n",
        "#singular vector decomposition\n",
        "#eigenvaluse\n",
        "#matrix Norm\n"
      ]
    },
    {
      "cell_type": "markdown",
      "metadata": {
        "id": "pvn_XZ6M5lae"
      },
      "source": [
        "#Stasitics"
      ]
    },
    {
      "cell_type": "code",
      "execution_count": null,
      "metadata": {
        "colab": {
          "base_uri": "https://localhost:8080/"
        },
        "id": "izfUi2i_5qkG",
        "outputId": "1414e5ec-99c6-44b0-891e-7e99ccec625a"
      },
      "outputs": [
        {
          "data": {
            "text/plain": [
              "array([1, 3, 7, 3, 5])"
            ]
          },
          "execution_count": 104,
          "metadata": {},
          "output_type": "execute_result"
        }
      ],
      "source": [
        "stats = np.array([1,3,7,3,5])\n",
        "stats"
      ]
    },
    {
      "cell_type": "code",
      "execution_count": null,
      "metadata": {
        "colab": {
          "base_uri": "https://localhost:8080/"
        },
        "id": "0aS_nHar6OJw",
        "outputId": "e45fba4f-2ca7-4d0b-ac2a-e1f8de3f0b6e"
      },
      "outputs": [
        {
          "data": {
            "text/plain": [
              "np.int64(1)"
            ]
          },
          "execution_count": 106,
          "metadata": {},
          "output_type": "execute_result"
        }
      ],
      "source": [
        "np.min(stats)"
      ]
    },
    {
      "cell_type": "markdown",
      "metadata": {
        "id": "RFkMY6L3-J11"
      },
      "source": [
        "Reorganizing Arrays"
      ]
    },
    {
      "cell_type": "code",
      "execution_count": null,
      "metadata": {
        "colab": {
          "base_uri": "https://localhost:8080/"
        },
        "id": "ogBL40fc6SGd",
        "outputId": "29a5ebf8-1918-471c-fb1e-84d0157adcd4"
      },
      "outputs": [
        {
          "name": "stdout",
          "output_type": "stream",
          "text": [
            "[[1 3 5 6]\n",
            " [5 6 7 9]]\n"
          ]
        }
      ],
      "source": [
        "before = np.array([[1,3,5,6], [5,6,7,9]])\n",
        "\n",
        "print(before)\n"
      ]
    },
    {
      "cell_type": "code",
      "execution_count": null,
      "metadata": {
        "colab": {
          "base_uri": "https://localhost:8080/"
        },
        "id": "69ekhyvV-a2m",
        "outputId": "8df486a8-0a8f-45d5-944e-adf035297dd5"
      },
      "outputs": [
        {
          "name": "stdout",
          "output_type": "stream",
          "text": [
            "[[[1 3]\n",
            "  [5 6]]\n",
            "\n",
            " [[5 6]\n",
            "  [7 9]]]\n"
          ]
        }
      ],
      "source": [
        "after = before.reshape((2,2,2))\n",
        "print(after)"
      ]
    },
    {
      "cell_type": "code",
      "execution_count": null,
      "metadata": {
        "colab": {
          "base_uri": "https://localhost:8080/"
        },
        "id": "0bX1tHzG_hrs",
        "outputId": "3a133994-75c8-4b7e-e2f6-fd322139c4d3"
      },
      "outputs": [
        {
          "data": {
            "text/plain": [
              "array([[1, 2, 4, 5],\n",
              "       [5, 6, 7, 8],\n",
              "       [1, 2, 4, 5],\n",
              "       [5, 6, 7, 8]])"
            ]
          },
          "execution_count": 123,
          "metadata": {},
          "output_type": "execute_result"
        }
      ],
      "source": [
        "#vertically stacking vectors\n",
        "v1 = np.array([1,2,4,5])\n",
        "v2 = np.array ([5,6,7,8])\n",
        "\n",
        "np.vstack([v1,v2,v1,v2])"
      ]
    },
    {
      "cell_type": "code",
      "execution_count": null,
      "metadata": {
        "colab": {
          "base_uri": "https://localhost:8080/"
        },
        "id": "vGQyF-cI_2rb",
        "outputId": "98bad2fb-9c55-4da3-cc0a-293cfc3b5ec2"
      },
      "outputs": [
        {
          "data": {
            "text/plain": [
              "array([1, 2, 4, 5, 5, 6, 7, 8, 1, 2, 4, 5, 5, 6, 7, 8])"
            ]
          },
          "execution_count": 124,
          "metadata": {},
          "output_type": "execute_result"
        }
      ],
      "source": [
        "np.hstack([v1,v2,v1,v2])"
      ]
    },
    {
      "cell_type": "markdown",
      "metadata": {
        "id": "eY1vkVQRAXFG"
      },
      "source": [
        "#Miscellaneous"
      ]
    },
    {
      "cell_type": "markdown",
      "metadata": {
        "id": "DC5Qxw5oAiwy"
      },
      "source": [
        "Load Data from File"
      ]
    },
    {
      "cell_type": "code",
      "execution_count": null,
      "metadata": {
        "colab": {
          "base_uri": "https://localhost:8080/",
          "height": 74
        },
        "id": "CunPztvBC_PG",
        "outputId": "756193f7-943f-48c2-fafc-223fb481a588"
      },
      "outputs": [
        {
          "data": {
            "text/html": [
              "\n",
              "     <input type=\"file\" id=\"files-9b484640-d8cf-4e30-ace0-ca454f24bd67\" name=\"files[]\" multiple disabled\n",
              "        style=\"border:none\" />\n",
              "     <output id=\"result-9b484640-d8cf-4e30-ace0-ca454f24bd67\">\n",
              "      Upload widget is only available when the cell has been executed in the\n",
              "      current browser session. Please rerun this cell to enable.\n",
              "      </output>\n",
              "      <script>// Copyright 2017 Google LLC\n",
              "//\n",
              "// Licensed under the Apache License, Version 2.0 (the \"License\");\n",
              "// you may not use this file except in compliance with the License.\n",
              "// You may obtain a copy of the License at\n",
              "//\n",
              "//      http://www.apache.org/licenses/LICENSE-2.0\n",
              "//\n",
              "// Unless required by applicable law or agreed to in writing, software\n",
              "// distributed under the License is distributed on an \"AS IS\" BASIS,\n",
              "// WITHOUT WARRANTIES OR CONDITIONS OF ANY KIND, either express or implied.\n",
              "// See the License for the specific language governing permissions and\n",
              "// limitations under the License.\n",
              "\n",
              "/**\n",
              " * @fileoverview Helpers for google.colab Python module.\n",
              " */\n",
              "(function(scope) {\n",
              "function span(text, styleAttributes = {}) {\n",
              "  const element = document.createElement('span');\n",
              "  element.textContent = text;\n",
              "  for (const key of Object.keys(styleAttributes)) {\n",
              "    element.style[key] = styleAttributes[key];\n",
              "  }\n",
              "  return element;\n",
              "}\n",
              "\n",
              "// Max number of bytes which will be uploaded at a time.\n",
              "const MAX_PAYLOAD_SIZE = 100 * 1024;\n",
              "\n",
              "function _uploadFiles(inputId, outputId) {\n",
              "  const steps = uploadFilesStep(inputId, outputId);\n",
              "  const outputElement = document.getElementById(outputId);\n",
              "  // Cache steps on the outputElement to make it available for the next call\n",
              "  // to uploadFilesContinue from Python.\n",
              "  outputElement.steps = steps;\n",
              "\n",
              "  return _uploadFilesContinue(outputId);\n",
              "}\n",
              "\n",
              "// This is roughly an async generator (not supported in the browser yet),\n",
              "// where there are multiple asynchronous steps and the Python side is going\n",
              "// to poll for completion of each step.\n",
              "// This uses a Promise to block the python side on completion of each step,\n",
              "// then passes the result of the previous step as the input to the next step.\n",
              "function _uploadFilesContinue(outputId) {\n",
              "  const outputElement = document.getElementById(outputId);\n",
              "  const steps = outputElement.steps;\n",
              "\n",
              "  const next = steps.next(outputElement.lastPromiseValue);\n",
              "  return Promise.resolve(next.value.promise).then((value) => {\n",
              "    // Cache the last promise value to make it available to the next\n",
              "    // step of the generator.\n",
              "    outputElement.lastPromiseValue = value;\n",
              "    return next.value.response;\n",
              "  });\n",
              "}\n",
              "\n",
              "/**\n",
              " * Generator function which is called between each async step of the upload\n",
              " * process.\n",
              " * @param {string} inputId Element ID of the input file picker element.\n",
              " * @param {string} outputId Element ID of the output display.\n",
              " * @return {!Iterable<!Object>} Iterable of next steps.\n",
              " */\n",
              "function* uploadFilesStep(inputId, outputId) {\n",
              "  const inputElement = document.getElementById(inputId);\n",
              "  inputElement.disabled = false;\n",
              "\n",
              "  const outputElement = document.getElementById(outputId);\n",
              "  outputElement.innerHTML = '';\n",
              "\n",
              "  const pickedPromise = new Promise((resolve) => {\n",
              "    inputElement.addEventListener('change', (e) => {\n",
              "      resolve(e.target.files);\n",
              "    });\n",
              "  });\n",
              "\n",
              "  const cancel = document.createElement('button');\n",
              "  inputElement.parentElement.appendChild(cancel);\n",
              "  cancel.textContent = 'Cancel upload';\n",
              "  const cancelPromise = new Promise((resolve) => {\n",
              "    cancel.onclick = () => {\n",
              "      resolve(null);\n",
              "    };\n",
              "  });\n",
              "\n",
              "  // Wait for the user to pick the files.\n",
              "  const files = yield {\n",
              "    promise: Promise.race([pickedPromise, cancelPromise]),\n",
              "    response: {\n",
              "      action: 'starting',\n",
              "    }\n",
              "  };\n",
              "\n",
              "  cancel.remove();\n",
              "\n",
              "  // Disable the input element since further picks are not allowed.\n",
              "  inputElement.disabled = true;\n",
              "\n",
              "  if (!files) {\n",
              "    return {\n",
              "      response: {\n",
              "        action: 'complete',\n",
              "      }\n",
              "    };\n",
              "  }\n",
              "\n",
              "  for (const file of files) {\n",
              "    const li = document.createElement('li');\n",
              "    li.append(span(file.name, {fontWeight: 'bold'}));\n",
              "    li.append(span(\n",
              "        `(${file.type || 'n/a'}) - ${file.size} bytes, ` +\n",
              "        `last modified: ${\n",
              "            file.lastModifiedDate ? file.lastModifiedDate.toLocaleDateString() :\n",
              "                                    'n/a'} - `));\n",
              "    const percent = span('0% done');\n",
              "    li.appendChild(percent);\n",
              "\n",
              "    outputElement.appendChild(li);\n",
              "\n",
              "    const fileDataPromise = new Promise((resolve) => {\n",
              "      const reader = new FileReader();\n",
              "      reader.onload = (e) => {\n",
              "        resolve(e.target.result);\n",
              "      };\n",
              "      reader.readAsArrayBuffer(file);\n",
              "    });\n",
              "    // Wait for the data to be ready.\n",
              "    let fileData = yield {\n",
              "      promise: fileDataPromise,\n",
              "      response: {\n",
              "        action: 'continue',\n",
              "      }\n",
              "    };\n",
              "\n",
              "    // Use a chunked sending to avoid message size limits. See b/62115660.\n",
              "    let position = 0;\n",
              "    do {\n",
              "      const length = Math.min(fileData.byteLength - position, MAX_PAYLOAD_SIZE);\n",
              "      const chunk = new Uint8Array(fileData, position, length);\n",
              "      position += length;\n",
              "\n",
              "      const base64 = btoa(String.fromCharCode.apply(null, chunk));\n",
              "      yield {\n",
              "        response: {\n",
              "          action: 'append',\n",
              "          file: file.name,\n",
              "          data: base64,\n",
              "        },\n",
              "      };\n",
              "\n",
              "      let percentDone = fileData.byteLength === 0 ?\n",
              "          100 :\n",
              "          Math.round((position / fileData.byteLength) * 100);\n",
              "      percent.textContent = `${percentDone}% done`;\n",
              "\n",
              "    } while (position < fileData.byteLength);\n",
              "  }\n",
              "\n",
              "  // All done.\n",
              "  yield {\n",
              "    response: {\n",
              "      action: 'complete',\n",
              "    }\n",
              "  };\n",
              "}\n",
              "\n",
              "scope.google = scope.google || {};\n",
              "scope.google.colab = scope.google.colab || {};\n",
              "scope.google.colab._files = {\n",
              "  _uploadFiles,\n",
              "  _uploadFilesContinue,\n",
              "};\n",
              "})(self);\n",
              "</script> "
            ],
            "text/plain": [
              "<IPython.core.display.HTML object>"
            ]
          },
          "metadata": {},
          "output_type": "display_data"
        },
        {
          "name": "stdout",
          "output_type": "stream",
          "text": [
            "Saving test.txt to test.txt\n"
          ]
        }
      ],
      "source": [
        "from google.colab import files\n",
        "uploaded = files.upload()\n"
      ]
    },
    {
      "cell_type": "code",
      "execution_count": null,
      "metadata": {
        "colab": {
          "base_uri": "https://localhost:8080/"
        },
        "id": "U7f_Bjn2AB62",
        "outputId": "2da6aa87-8b17-4ef8-dd99-e832c96b066d"
      },
      "outputs": [
        {
          "name": "stdout",
          "output_type": "stream",
          "text": [
            "[83 45 91 23 64 11 39 68 90 12 55 33 72  5 98 27 43 87 14 66  7 35 58 20\n",
            " 76  3 94 62 19 80 41  6 96 28 24 50 17 71 13 77 99 36  9 84 31  2 46 25\n",
            " 88 60]\n"
          ]
        }
      ],
      "source": [
        "filedata = np.genfromtxt('test.txt', delimiter=',')\n",
        "filedata = filedata.astype('int32')\n",
        "print(filedata)"
      ]
    },
    {
      "cell_type": "code",
      "execution_count": null,
      "metadata": {
        "id": "-XCU3Vh9AgCf"
      },
      "outputs": [],
      "source": [
        "#### Boolean Masking and Advanced indexing"
      ]
    },
    {
      "cell_type": "code",
      "execution_count": null,
      "metadata": {
        "colab": {
          "base_uri": "https://localhost:8080/"
        },
        "id": "8DSbOpiTBs0w",
        "outputId": "230aae05-18de-4185-a773-d03d46b5779d"
      },
      "outputs": [
        {
          "data": {
            "text/plain": [
              "array([83, 91, 64, 68, 90, 72, 98, 87, 66, 76, 94, 62, 80, 96, 71, 77, 99,\n",
              "       84, 88], dtype=int32)"
            ]
          },
          "execution_count": 134,
          "metadata": {},
          "output_type": "execute_result"
        }
      ],
      "source": [
        "filedata[filedata > 60]"
      ]
    },
    {
      "cell_type": "code",
      "execution_count": null,
      "metadata": {
        "colab": {
          "base_uri": "https://localhost:8080/"
        },
        "id": "LdHP8wZrDT1E",
        "outputId": "1c03252f-ce10-4388-c2c0-a9b1f570b3a3"
      },
      "outputs": [
        {
          "data": {
            "text/plain": [
              "array([False, False, False, False,  True, False, False,  True, False,\n",
              "       False,  True, False,  True, False, False, False, False, False,\n",
              "       False,  True, False, False,  True, False, False, False, False,\n",
              "        True, False, False, False, False, False, False, False, False,\n",
              "       False,  True, False, False, False, False, False, False, False,\n",
              "       False, False, False, False,  True])"
            ]
          },
          "execution_count": 138,
          "metadata": {},
          "output_type": "execute_result"
        }
      ],
      "source": [
        "(((filedata > 50) & (filedata < 75)))"
      ]
    },
    {
      "cell_type": "code",
      "execution_count": null,
      "metadata": {
        "id": "yEMkssdRD5y3"
      },
      "outputs": [],
      "source": [
        "A[[0,4,5],3:5]"
      ]
    }
  ],
  "metadata": {
    "colab": {
      "provenance": []
    },
    "kernelspec": {
      "display_name": ".venv",
      "language": "python",
      "name": "python3"
    },
    "language_info": {
      "codemirror_mode": {
        "name": "ipython",
        "version": 3
      },
      "file_extension": ".py",
      "mimetype": "text/x-python",
      "name": "python",
      "nbconvert_exporter": "python",
      "pygments_lexer": "ipython3",
      "version": "3.13.5"
    }
  },
  "nbformat": 4,
  "nbformat_minor": 0
}
